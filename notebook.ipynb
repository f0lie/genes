{
 "cells": [
  {
   "cell_type": "code",
   "execution_count": 1,
   "metadata": {
    "collapsed": false
   },
   "outputs": [],
   "source": [
    "import glob\n",
    "\n",
    "from pandas import DataFrame, read_csv\n",
    "\n",
    "import pandas as pd\n",
    "\n",
    "#Versioning\n",
    "import sys"
   ]
  },
  {
   "cell_type": "code",
   "execution_count": 2,
   "metadata": {
    "collapsed": false
   },
   "outputs": [
    {
     "name": "stdout",
     "output_type": "stream",
     "text": [
      "Python version 3.5.1 (default, Mar  3 2016, 09:29:07) \n",
      "[GCC 5.3.0]\n",
      "Pandas version 0.18.0\n"
     ]
    }
   ],
   "source": [
    "print('Python version ' + sys.version)\n",
    "print('Pandas version ' + pd.__version__)"
   ]
  },
  {
   "cell_type": "code",
   "execution_count": 3,
   "metadata": {
    "collapsed": true
   },
   "outputs": [],
   "source": [
    "# Parameters\n",
    "search_words = ['non-coding',\n",
    "                'intergenic',\n",
    "                'intron',\n",
    "                'exon',\n",
    "                'promoter-TSS',\n",
    "                'TTS',\n",
    "                '5\\' UTR',\n",
    "                '3\\' UTR',\n",
    "                'p53',\n",
    "                'rpr',\n",
    "                'corp']\n",
    "search_words = [word.lower().split()[0] for word in search_words]\n",
    "\n",
    "search_gene = 'CG40228'\n",
    "\n",
    "drop_dups = False"
   ]
  },
  {
   "cell_type": "code",
   "execution_count": 4,
   "metadata": {
    "collapsed": false
   },
   "outputs": [],
   "source": [
    "# Grab all files from data folder\n",
    "files = glob.glob('data/*.anno')\n",
    "genes = [read_csv(f, sep='\\t') for f in files]\n",
    "\n",
    "for gene in genes:\n",
    "    # Fix the PeakID label b/c it had 'junk' in it\n",
    "    gene.columns.values[0] = 'PeakID'"
   ]
  },
  {
   "cell_type": "code",
   "execution_count": 5,
   "metadata": {
    "collapsed": true
   },
   "outputs": [],
   "source": [
    "# Drop 'data/' for the filenames\n",
    "files = [file.split('/')[1] for file in files]"
   ]
  },
  {
   "cell_type": "code",
   "execution_count": 6,
   "metadata": {
    "collapsed": false
   },
   "outputs": [],
   "source": [
    "# Drop all data beyond 'Gene Type'\n",
    "genes = [gene.ix[:,:'Gene Type'] for gene in genes]"
   ]
  },
  {
   "cell_type": "code",
   "execution_count": 7,
   "metadata": {
    "collapsed": true
   },
   "outputs": [],
   "source": [
    "# Gene data indexed by filenames and number of row in file\n",
    "# Gene data is the main DataFrame for the script\n",
    "genes_data = pd.concat(genes, keys=files)"
   ]
  },
  {
   "cell_type": "code",
   "execution_count": 8,
   "metadata": {
    "collapsed": false
   },
   "outputs": [],
   "source": [
    "# Checks if there are duplicated rows of data\n",
    "if drop_dups:\n",
    "    genes_data = genes_data.drop_duplicates()\n",
    "else:\n",
    "    dup_mask = genes_data.duplicated().groupby(level=0)\n",
    "    if dup_mask.any().any():\n",
    "        raise AssertionError('Duplicated rows!', dup_mask.any())"
   ]
  },
  {
   "cell_type": "code",
   "execution_count": 9,
   "metadata": {
    "collapsed": false,
    "scrolled": false
   },
   "outputs": [],
   "source": [
    "# Search for unique names in 'Gene Name'\n",
    "gene_names_results = genes_data.groupby(level=0)['Gene Name'].value_counts()\n",
    "\n",
    "# Rename header for easier processing\n",
    "gene_names_results.index = gene_names_results.index.rename(['File Name', 'Gene Name'])\n",
    "gene_names_results.name = 'Counts'"
   ]
  },
  {
   "cell_type": "code",
   "execution_count": 10,
   "metadata": {
    "collapsed": true
   },
   "outputs": [],
   "source": [
    "# Output file to gene_name_counts\n",
    "gene_names_results.groupby(level=0).head().to_csv('gene_name_counts.tsv',  header=True, sep='\\t')"
   ]
  },
  {
   "cell_type": "code",
   "execution_count": 11,
   "metadata": {
    "collapsed": false
   },
   "outputs": [],
   "source": [
    "# Drop extra data in 'Annotation' column\n",
    "genes_data['Annotation'] = genes_data['Annotation'].apply(lambda x: str(x).split()[0])"
   ]
  },
  {
   "cell_type": "code",
   "execution_count": 12,
   "metadata": {
    "collapsed": false
   },
   "outputs": [],
   "source": [
    "# Count all of the unique annotations\n",
    "gene_names = genes_data.groupby(level=0)['Annotation'].value_counts()\n",
    "\n",
    "# Fill NaN with zero, convert float to int, and output file\n",
    "gene_names.unstack(level=0).fillna(0).astype(int).to_csv('annotation_results.tsv', sep='\\t')"
   ]
  },
  {
   "cell_type": "code",
   "execution_count": 13,
   "metadata": {
    "collapsed": false,
    "scrolled": false
   },
   "outputs": [],
   "source": [
    "# Table contains all of the rows with the gene search_gene\n",
    "gene_search_results = genes_data[genes_data['Gene Name'].str.contains(search_gene, na=False)]\n",
    "\n",
    "# Rename header for easier processing\n",
    "gene_search_results.index = gene_search_results.index.rename(['File Name', 'Row Number'])"
   ]
  },
  {
   "cell_type": "code",
   "execution_count": 14,
   "metadata": {
    "collapsed": true
   },
   "outputs": [],
   "source": [
    "# Output file with searched gene name\n",
    "gene_search_results.to_csv('search_{}_results.tsv'.format(search_gene), sep='\\t')"
   ]
  },
  {
   "cell_type": "code",
   "execution_count": 15,
   "metadata": {
    "collapsed": false
   },
   "outputs": [],
   "source": [
    "# Count all unique values in annotation\n",
    "search_data = pd.DataFrame(genes_data.groupby(level=0)['Annotation'].value_counts())\n",
    "\n",
    "# Change table to wanted output\n",
    "search_data.reset_index(inplace=True)\n",
    "search_data.columns = ['Filename', 'Search Word', 'Hits']\n",
    "search_data = search_data.pivot(index=\"Search Word\", columns=\"Filename\", values=\"Hits\")\n",
    "search_data = search_data.drop('nan')\n",
    "search_data =search_data.fillna(0)"
   ]
  },
  {
   "cell_type": "code",
   "execution_count": 16,
   "metadata": {
    "collapsed": false
   },
   "outputs": [],
   "source": [
    "# Output the search results to file\n",
    "search_data.astype(int).to_csv('search_results.tsv', sep='\\t')"
   ]
  }
 ],
 "metadata": {
  "kernelspec": {
   "display_name": "Python 3",
   "language": "python",
   "name": "python3"
  },
  "language_info": {
   "codemirror_mode": {
    "name": "ipython",
    "version": 3
   },
   "file_extension": ".py",
   "mimetype": "text/x-python",
   "name": "python",
   "nbconvert_exporter": "python",
   "pygments_lexer": "ipython3",
   "version": "3.5.1"
  }
 },
 "nbformat": 4,
 "nbformat_minor": 0
}
