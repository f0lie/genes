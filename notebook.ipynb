{
 "cells": [
  {
   "cell_type": "code",
   "execution_count": 1,
   "metadata": {
    "collapsed": false
   },
   "outputs": [
    {
     "name": "stderr",
     "output_type": "stream",
     "text": [
      "Vendor:  Continuum Analytics, Inc.\n",
      "Package: mkl\n",
      "Message: trial mode expires in 30 days\n"
     ]
    }
   ],
   "source": [
    "%matplotlib inline\n",
    "import os\n",
    "\n",
    "from pandas import DataFrame, read_csv\n",
    "\n",
    "import pandas as pd\n",
    "import matplotlib.pyplot as plt\n",
    "\n",
    "#Versioning\n",
    "import sys\n",
    "import matplotlib"
   ]
  },
  {
   "cell_type": "code",
   "execution_count": 2,
   "metadata": {
    "collapsed": false
   },
   "outputs": [
    {
     "name": "stdout",
     "output_type": "stream",
     "text": [
      "Python version 3.5.1 |Anaconda 2.5.0 (64-bit)| (default, Dec  7 2015, 11:16:01) \n",
      "[GCC 4.4.7 20120313 (Red Hat 4.4.7-1)]\n",
      "Pandas version 0.17.1\n",
      "Matplotlib version 1.5.1\n"
     ]
    }
   ],
   "source": [
    "print('Python version ' + sys.version)\n",
    "print('Pandas version ' + pd.__version__)\n",
    "print('Matplotlib version ' + matplotlib.__version__)"
   ]
  },
  {
   "cell_type": "code",
   "execution_count": 3,
   "metadata": {
    "collapsed": true
   },
   "outputs": [],
   "source": [
    "genes_data = pd.DataFrame()\n",
    "\n",
    "search_words = ['non-coding',\n",
    "                'intergenic',\n",
    "                'intron',\n",
    "                'exon',\n",
    "                'promoter-TSS',\n",
    "                'TTS',\n",
    "                '5’ UTR',\n",
    "                '3’ UTR']"
   ]
  },
  {
   "cell_type": "code",
   "execution_count": 4,
   "metadata": {
    "collapsed": false
   },
   "outputs": [],
   "source": [
    "for file_ in os.listdir():\n",
    "    if file_.endswith('.anno'):\n",
    "        genes_data = pd.read_csv(file_, sep='\\t')\n",
    "        genes_data.insert(0, 'File Name', file_)\n",
    "\n",
    "# Remove junk from the PeakID column name\n",
    "genes_data.columns.values[1] = 'PeakID'"
   ]
  },
  {
   "cell_type": "code",
   "execution_count": 5,
   "metadata": {
    "collapsed": false
   },
   "outputs": [
    {
     "name": "stdout",
     "output_type": "stream",
     "text": [
      "<class 'pandas.core.frame.DataFrame'>\n",
      "Int64Index: 2638 entries, 0 to 2637\n",
      "Data columns (total 20 columns):\n",
      "File Name                  2638 non-null object\n",
      "PeakID                     2638 non-null int64\n",
      "Chr                        2638 non-null object\n",
      "Start                      2638 non-null int64\n",
      "End                        2638 non-null int64\n",
      "Strand                     2638 non-null object\n",
      "Peak Score                 2638 non-null int64\n",
      "Focus Ratio/Region Size    0 non-null float64\n",
      "Annotation                 2638 non-null object\n",
      "Detailed Annotation        2638 non-null object\n",
      "Distance to TSS            2638 non-null int64\n",
      "Nearest PromoterID         2638 non-null object\n",
      "Entrez ID                  2636 non-null float64\n",
      "Nearest Unigene            2511 non-null object\n",
      "Nearest Refseq             2636 non-null object\n",
      "Nearest Ensembl            2323 non-null object\n",
      "Gene Name                  2636 non-null object\n",
      "Gene Alias                 2636 non-null object\n",
      "Gene Description           2636 non-null object\n",
      "Gene Type                  2636 non-null object\n",
      "dtypes: float64(2), int64(5), object(13)\n",
      "memory usage: 432.8+ KB\n"
     ]
    }
   ],
   "source": [
    "genes_data.info()"
   ]
  },
  {
   "cell_type": "code",
   "execution_count": null,
   "metadata": {
    "collapsed": true
   },
   "outputs": [],
   "source": []
  }
 ],
 "metadata": {
  "kernelspec": {
   "display_name": "Python 3",
   "language": "python",
   "name": "python3"
  },
  "language_info": {
   "codemirror_mode": {
    "name": "ipython",
    "version": 3
   },
   "file_extension": ".py",
   "mimetype": "text/x-python",
   "name": "python",
   "nbconvert_exporter": "python",
   "pygments_lexer": "ipython3",
   "version": "3.5.1"
  }
 },
 "nbformat": 4,
 "nbformat_minor": 0
}
